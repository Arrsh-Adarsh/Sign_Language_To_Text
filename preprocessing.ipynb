{
 "cells": [
  {
   "cell_type": "code",
   "execution_count": 1,
   "metadata": {
    "collapsed": true
   },
   "outputs": [],
   "source": [
    "import os, sys\n",
    "import cv2\n",
    "import pandas as pd\n",
    "import numpy as np\n",
    "import string"
   ]
  },
  {
   "cell_type": "code",
   "execution_count": 2,
   "outputs": [],
   "source": [
    "BASEPATH = 'data/'\n",
    "sys.path.insert(0, BASEPATH)\n",
    "os.chdir(BASEPATH)"
   ],
   "metadata": {
    "collapsed": false,
    "pycharm": {
     "name": "#%%\n"
    }
   }
  },
  {
   "cell_type": "code",
   "execution_count": 3,
   "outputs": [],
   "source": [
    "Xtrain = [cv2.resize(np.asarray(cv2.imread('train/' + symbol + '/' + file, cv2.IMREAD_GRAYSCALE)), (128, 128),\n",
    "                     interpolation=cv2.INTER_CUBIC) for symbol in string.ascii_uppercase for file in\n",
    "          os.listdir('train/' + symbol)]\n",
    "ytrain = [symbol for symbol in string.ascii_uppercase for _ in range(len(os.listdir('train/' + symbol)))]\n",
    "Xtrain1 = [cv2.resize(np.asarray(cv2.imread('train/@/' + file, cv2.IMREAD_GRAYSCALE)), (128, 128),\n",
    "                      interpolation=cv2.INTER_CUBIC) for file in os.listdir('train/@')]\n",
    "ytrain1 = ['@' for _ in range(len(os.listdir('train/@')))]\n",
    "Xtrain = Xtrain + Xtrain1\n",
    "ytrain = ytrain + ytrain1\n"
   ],
   "metadata": {
    "collapsed": false,
    "pycharm": {
     "name": "#%%\n"
    }
   }
  },
  {
   "cell_type": "code",
   "execution_count": 4,
   "outputs": [],
   "source": [
    "Xtest = [cv2.resize(np.asarray(cv2.imread('test/'+ symbol + '/' +file, cv2.IMREAD_GRAYSCALE)), (128,128), interpolation=cv2.INTER_CUBIC) for symbol in string.ascii_uppercase for file in os.listdir('test/'+symbol)]\n",
    "ytest = [symbol for symbol in string.ascii_uppercase for _ in range(len(os.listdir('test/'+symbol)))]\n",
    "Xtest1 = [cv2.resize(np.asarray(cv2.imread('test/@/' +file, cv2.IMREAD_GRAYSCALE)), (128,128), interpolation=cv2.INTER_CUBIC) for file in os.listdir('test/@')]\n",
    "ytest1 = ['@' for _ in range(len(os.listdir('test/@')))]\n",
    "Xtest = Xtest + Xtest1\n",
    "ytest = ytest + ytest1"
   ],
   "metadata": {
    "collapsed": false,
    "pycharm": {
     "name": "#%%\n"
    }
   }
  },
  {
   "cell_type": "code",
   "execution_count": 5,
   "outputs": [],
   "source": [
    "dfTrain = pd.DataFrame()\n",
    "dfTest = pd.DataFrame()\n",
    "# dfTrain['Image'] = Xtrain\n",
    "dfTrain['Symbol'] = ytrain\n",
    "# dfTest['Image'] = Xtest\n",
    "dfTest['Symbol'] = ytest"
   ],
   "metadata": {
    "collapsed": false,
    "pycharm": {
     "name": "#%%\n"
    }
   }
  },
  {
   "cell_type": "code",
   "execution_count": 6,
   "outputs": [],
   "source": [
    "Xtrain = np.expand_dims(np.asarray(Xtrain), -1)\n",
    "Xtest = np.expand_dims(np.asarray(Xtest), -1)\n"
   ],
   "metadata": {
    "collapsed": false,
    "pycharm": {
     "name": "#%%\n"
    }
   }
  },
  {
   "cell_type": "code",
   "execution_count": 9,
   "outputs": [],
   "source": [
    "folder = 'model 2/'\n",
    "if not os.path.exists(folder):\n",
    "    os.makedirs(folder)\n",
    "np.save(folder + 'Xtrain.npy', Xtrain)\n",
    "dfTrain['Symbol'].to_csv(folder + 'ytrain.csv')\n",
    "np.save(folder + 'Xtest.npy', Xtest)\n",
    "dfTest['Symbol'].to_csv(folder + 'ytest.csv')"
   ],
   "metadata": {
    "collapsed": false,
    "pycharm": {
     "name": "#%%\n"
    }
   }
  },
  {
   "cell_type": "code",
   "execution_count": 7,
   "outputs": [],
   "source": [],
   "metadata": {
    "collapsed": false,
    "pycharm": {
     "name": "#%%\n"
    }
   }
  }
 ],
 "metadata": {
  "kernelspec": {
   "display_name": "Python 3",
   "language": "python",
   "name": "python3"
  },
  "language_info": {
   "codemirror_mode": {
    "name": "ipython",
    "version": 2
   },
   "file_extension": ".py",
   "mimetype": "text/x-python",
   "name": "python",
   "nbconvert_exporter": "python",
   "pygments_lexer": "ipython2",
   "version": "2.7.6"
  }
 },
 "nbformat": 4,
 "nbformat_minor": 0
}